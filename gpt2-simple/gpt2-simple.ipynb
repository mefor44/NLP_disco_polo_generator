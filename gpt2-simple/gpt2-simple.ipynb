{
 "cells": [
  {
   "cell_type": "code",
   "execution_count": null,
   "id": "f252ff42-6fb7-4b66-9672-45e09f331c62",
   "metadata": {},
   "outputs": [],
   "source": [
    "!pip install gpt-2-simple > log"
   ]
  },
  {
   "cell_type": "code",
   "execution_count": null,
   "id": "bfc30bdd-b89f-49eb-850f-5da716ff1fcf",
   "metadata": {},
   "outputs": [],
   "source": [
    "import gpt_2_simple as gpt2\n",
    "import os\n",
    "from datetime import datetime \n",
    "import tensorflow as tf\n",
    "from google.cloud import storage"
   ]
  },
  {
   "cell_type": "code",
   "execution_count": null,
   "id": "4e138d89-74b9-4708-bb0b-dde039b09b3f",
   "metadata": {},
   "outputs": [],
   "source": [
    "model_name=\"124M\"\n",
    "checkpoint_dir = 'checkpoint'\n",
    "file_name = \"songs_data.txt\"\n",
    "timestamp = datetime.now().strftime(\"%Y%m%d%H%M%S\")\n",
    "bucket_name = \"poem-generator-checkpoints\"\n",
    "run_name='disco_polo_gen'"
   ]
  },
  {
   "cell_type": "code",
   "execution_count": null,
   "id": "c21ffffb-1527-4a56-8a09-65cac5d51955",
   "metadata": {},
   "outputs": [],
   "source": [
    "if not os.path.exists(os.path.join('models', model_name)):\n",
    "    gpt2.download_gpt2(model_name=model_name)"
   ]
  },
  {
   "cell_type": "code",
   "execution_count": null,
   "id": "78c5d72a-0e10-45f4-9fab-434a0c319ff4",
   "metadata": {},
   "outputs": [],
   "source": [
    "sess = gpt2.start_tf_sess() \n",
    "gpt2.finetune(sess,\n",
    "              dataset=file_name,\n",
    "              model_name=model_name,\n",
    "              reuse=True,\n",
    "              steps=15000,\n",
    "              run_name=run_name,\n",
    "              print_every=10,\n",
    "              sample_every=200,\n",
    "              save_every=100, \n",
    "              only_train_transformer_layers = True,\n",
    "              accumulate_gradients = 1\n",
    "              )"
   ]
  },
  {
   "cell_type": "code",
   "execution_count": null,
   "id": "ac3760be-c41b-4ab8-9986-a74efec9731a",
   "metadata": {},
   "outputs": [],
   "source": [
    "bucket = storage.Client().get_bucket(bucket_name)\n",
    "for f_name in os.listdir(os.path.join(checkpoint_dir, run_name)):\n",
    "    bucket.blob(os.path.join(timestamp, checkpoint_dir, run_name, f_name))\\\n",
    "                .upload_from_filename(os.path.join(checkpoint_dir, run_name, f_name))"
   ]
  },
  {
   "cell_type": "code",
   "execution_count": null,
   "id": "8a4327aa-ad91-456f-9e5a-a7f4e15702f7",
   "metadata": {},
   "outputs": [],
   "source": []
  }
 ],
 "metadata": {
  "environment": {
   "kernel": "python3",
   "name": "pytorch-gpu.1-10.m90",
   "type": "gcloud",
   "uri": "gcr.io/deeplearning-platform-release/pytorch-gpu.1-10:m90"
  },
  "kernelspec": {
   "display_name": "Python 3",
   "language": "python",
   "name": "python3"
  },
  "language_info": {
   "codemirror_mode": {
    "name": "ipython",
    "version": 3
   },
   "file_extension": ".py",
   "mimetype": "text/x-python",
   "name": "python",
   "nbconvert_exporter": "python",
   "pygments_lexer": "ipython3",
   "version": "3.7.12"
  }
 },
 "nbformat": 4,
 "nbformat_minor": 5
}
