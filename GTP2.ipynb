{
  "nbformat": 4,
  "nbformat_minor": 0,
  "metadata": {
    "colab": {
      "name": "GTP2",
      "provenance": [],
      "collapsed_sections": [],
      "include_colab_link": true
    },
    "kernelspec": {
      "name": "python3",
      "display_name": "Python 3"
    },
    "accelerator": "GPU"
  },
  "cells": [
    {
      "cell_type": "markdown",
      "metadata": {
        "id": "view-in-github",
        "colab_type": "text"
      },
      "source": [
        "<a href=\"https://colab.research.google.com/github/PaulinaPacyna/SeoAI/blob/master/GTP2.ipynb\" target=\"_parent\"><img src=\"https://colab.research.google.com/assets/colab-badge.svg\" alt=\"Open In Colab\"/></a>"
      ]
    },
    {
      "cell_type": "code",
      "metadata": {
        "id": "KBkpRgBCBS2_",
        "colab": {
          "base_uri": "https://localhost:8080/"
        },
        "outputId": "c0a7f1fd-2526-4481-cce7-1f42a8713645"
      },
      "source": [
        "%tensorflow_version 1.x\n",
        "!pip install -q gpt-2-simple\n",
        "import gpt_2_simple as gpt2\n",
        "from datetime import datetime\n",
        "from google.colab import files"
      ],
      "execution_count": 1,
      "outputs": [
        {
          "output_type": "stream",
          "name": "stdout",
          "text": [
            "TensorFlow 1.x selected.\n"
          ]
        }
      ]
    },
    {
      "cell_type": "code",
      "metadata": {
        "id": "puq4iC6vUAHc",
        "colab": {
          "base_uri": "https://localhost:8080/"
        },
        "outputId": "12da78dd-029d-4731-ade0-877aee779553"
      },
      "source": [
        "gpt2.mount_gdrive()"
      ],
      "execution_count": 2,
      "outputs": [
        {
          "output_type": "stream",
          "name": "stdout",
          "text": [
            "Drive already mounted at /content/drive; to attempt to forcibly remount, call drive.mount(\"/content/drive\", force_remount=True).\n"
          ]
        }
      ]
    },
    {
      "cell_type": "code",
      "metadata": {
        "id": "sUmTooTW3osf",
        "outputId": "5f194fb4-90a9-427b-8be6-1ce5b4813aa3",
        "colab": {
          "base_uri": "https://localhost:8080/"
        }
      },
      "source": [
        "!nvidia-smi"
      ],
      "execution_count": 3,
      "outputs": [
        {
          "output_type": "stream",
          "name": "stdout",
          "text": [
            "Tue Feb  1 20:42:45 2022       \n",
            "+-----------------------------------------------------------------------------+\n",
            "| NVIDIA-SMI 495.46       Driver Version: 460.32.03    CUDA Version: 11.2     |\n",
            "|-------------------------------+----------------------+----------------------+\n",
            "| GPU  Name        Persistence-M| Bus-Id        Disp.A | Volatile Uncorr. ECC |\n",
            "| Fan  Temp  Perf  Pwr:Usage/Cap|         Memory-Usage | GPU-Util  Compute M. |\n",
            "|                               |                      |               MIG M. |\n",
            "|===============================+======================+======================|\n",
            "|   0  Tesla T4            Off  | 00000000:00:04.0 Off |                    0 |\n",
            "| N/A   65C    P8    11W /  70W |      0MiB / 15109MiB |      0%      Default |\n",
            "|                               |                      |                  N/A |\n",
            "+-------------------------------+----------------------+----------------------+\n",
            "                                                                               \n",
            "+-----------------------------------------------------------------------------+\n",
            "| Processes:                                                                  |\n",
            "|  GPU   GI   CI        PID   Type   Process name                  GPU Memory |\n",
            "|        ID   ID                                                   Usage      |\n",
            "|=============================================================================|\n",
            "|  No running processes found                                                 |\n",
            "+-----------------------------------------------------------------------------+\n"
          ]
        }
      ]
    },
    {
      "cell_type": "code",
      "metadata": {
        "id": "P8wSlgXoDPCR",
        "outputId": "b5ccc197-dc8f-4ff5-fc7e-87fb8e8133d5",
        "colab": {
          "base_uri": "https://localhost:8080/"
        }
      },
      "source": [
        "model_name = \"124M\"\n",
        "gpt2.download_gpt2(model_name=model_name)"
      ],
      "execution_count": 4,
      "outputs": [
        {
          "output_type": "stream",
          "name": "stderr",
          "text": [
            "Fetching checkpoint: 1.05Mit [00:00, 483Mit/s]                                                      \n",
            "Fetching encoder.json: 1.05Mit [00:00, 2.95Mit/s]\n",
            "Fetching hparams.json: 1.05Mit [00:00, 738Mit/s]                                                    \n",
            "Fetching model.ckpt.data-00000-of-00001: 498Mit [00:16, 31.0Mit/s]                                  \n",
            "Fetching model.ckpt.index: 1.05Mit [00:00, 715Mit/s]                                                \n",
            "Fetching model.ckpt.meta: 1.05Mit [00:00, 3.81Mit/s]\n",
            "Fetching vocab.bpe: 1.05Mit [00:00, 3.73Mit/s]\n"
          ]
        }
      ]
    },
    {
      "cell_type": "markdown",
      "metadata": {
        "id": "HeeSKtNWUedE"
      },
      "source": [
        "If your text file is larger than 10MB, it is recommended to upload that file to Google Drive first, then copy that file from Google Drive to the Colaboratory VM."
      ]
    },
    {
      "cell_type": "code",
      "metadata": {
        "id": "-Z6okFD8VKtS"
      },
      "source": [
        "for file_name in [\"stack.txt\", \"amazon_descriptions.txt\"]:\n",
        "  gpt2.copy_file_from_gdrive(file_name)"
      ],
      "execution_count": 5,
      "outputs": []
    },
    {
      "cell_type": "markdown",
      "metadata": {
        "id": "LdpZQXknFNY3"
      },
      "source": [
        "## Finetune GPT-2\n",
        "\n",
        "The next cell will start the actual finetuning of GPT-2. It creates a persistent TensorFlow session which stores the training config, then runs the training for the specified number of `steps`. (to have the finetuning run indefinitely, set `steps = -1`)\n",
        "\n",
        "The model checkpoints will be saved in `/checkpoint/run1` by default. The checkpoints are saved every 500 steps (can be changed) and when the cell is stopped.\n",
        "\n",
        "The training might time out after 4ish hours; make sure you end training and save the results so you don't lose them!\n",
        "\n",
        "**IMPORTANT NOTE:** If you want to rerun this cell, **restart the VM first** (Runtime -> Restart Runtime). You will need to rerun imports but not recopy files.\n",
        "\n",
        "Other optional-but-helpful parameters for `gpt2.finetune`:\n",
        "\n",
        "\n",
        "*  **`restore_from`**: Set to `fresh` to start training from the base GPT-2, or set to `latest` to restart training from an existing checkpoint.\n",
        "* **`sample_every`**: Number of steps to print example output\n",
        "* **`print_every`**: Number of steps to print training progress.\n",
        "* **`learning_rate`**:  Learning rate for the training. (default `1e-4`, can lower to `1e-5` if you have <1MB input data)\n",
        "*  **`run_name`**: subfolder within `checkpoint` to save the model. This is useful if you want to work with multiple models (will also need to specify  `run_name` when loading the model)\n",
        "* **`overwrite`**: Set to `True` if you want to continue finetuning an existing model (w/ `restore_from='latest'`) without creating duplicate copies. "
      ]
    },
    {
      "cell_type": "code",
      "metadata": {
        "id": "aeXshJM-Cuaf",
        "outputId": "efd34d4e-2d73-49a5-8170-93a4d5e1443d",
        "colab": {
          "base_uri": "https://localhost:8080/"
        }
      },
      "source": [
        "# sess = gpt2.start_tf_sess()\n",
        "for file_name in [ \"amazon_descriptions.txt\"]:\n",
        "  gpt2.finetune(sess,\n",
        "                dataset=file_name,\n",
        "                model_name=\"124M\",\n",
        "                steps=1000,\n",
        "                restore_from='latest',\n",
        "                run_name='s_a',\n",
        "                print_every=100,\n",
        "                sample_every=200,\n",
        "                save_every=500,\n",
        "                overwrite=True,\n",
        "                reuse=True\n",
        "                )"
      ],
      "execution_count": 7,
      "outputs": [
        {
          "output_type": "stream",
          "name": "stdout",
          "text": [
            "Loading checkpoint checkpoint/s_a/model-1000\n",
            "INFO:tensorflow:Restoring parameters from checkpoint/s_a/model-1000\n",
            "Loading dataset...\n"
          ]
        },
        {
          "output_type": "stream",
          "name": "stderr",
          "text": [
            "100%|██████████| 1/1 [00:57<00:00, 57.35s/it]\n"
          ]
        },
        {
          "output_type": "stream",
          "name": "stdout",
          "text": [
            "dataset has 11925811 tokens\n",
            "Training...\n",
            "Saving checkpoint/s_a/model-1000\n",
            "Saving checkpoint/s_a/model-1000\n",
            "======== SAMPLE 1 ========\n",
            " dog, so that you have a reasonable chance of making it through to the next stage). i am extremely unsure how best to start the process. here is the list of things you can do: take your puppy in for her examination. she is likely already gotten on well with the medical staff, as she was expected to, but she is definitely got a fair bit of \"overreacting\" going on. for most children i guess, her anxiety can be a bit of a distraction. this is a good time to take it slow and work on positive reinforcement. you can do a small reward training as well - there is a bit of that on here too :). you need to get it to a point where you start out with a high reward. this may take some time, but once that is working at the level it is, then this approach may be working for you, too. \n",
            "i do not have a dog, i just have two, the most interesting i could find was this. i do not think it is possible to breed a dog of this dog because there is no way to be trained about it. if it was a bulldog he probably would have been very well trained to play the dog and the puppy would have tried harder to play the dog. he really is a dog that can be trained not to be afraid. i have tried everything i could think of and have no luck, but the dog still keeps me scratching the ground constantly. he is almost 9 or 10 and i just cannot believe my eyes that he is doing something like this. he does not play but he wants to puke, or just play and do not want me to hurt him, or i did not think it. he wants to be around me and to chase and eat and then he goes and bites the ground, and even then he is biting the ground even more. i am so sorry and i am afraid he does it because he is a dog of my parents. how can i train him to play the dog? the dog of my parents play the dog, just a little bit of a puppy, and at most 3-4 play sessions in a row. they are very curious and eager to get pet, but have not found anything good about it. i would try to train the puppy as hard as possible. it will eventually get tired of playing because the dog will start being scared of you and be too eager to play. you would spend the next 3 days out of the day playing with him, then spend the next 5 days looking around the whole house for the good behaviors like pounce and doggy-hunt. this way there would be no training in the house, and no one might be too eager to play games. \n",
            "i have had my dog since august of august of 2016. she has never had any problems before. every time she comes into kansas i have to have her checked. she is been there for 3 weeks, once we got her back she was fine. we did not ask the vet that i had to get her checked at first, because our dogs are in high dog to high estrus too, where they will be in the tank first with nothing left. we have had to leave her in one room, she just does not react to other pets or anyone at home. also it feels like she is been with you longer. i have seen her with friends and family before and always had people try to pet her, she is not like that. once i asked her what she wants my dog to do before, she wanted her to be comfortable in the bedroom and be happy without other people around. i just did not want to ruin that. she was just a pup and does not like people getting near her. i know that you are probably tired of sitting and waiting and you know there are a lot of other things that might be going on so you are asking for another person to do it. you might want to take the dog to vet for that to be sure. the vet would be able to answer questions and answer anything regarding her behavior. there are other factors that you have to know about, such as food preferences, age, and other things like that. i have seen a dog that had a similar issue as well but it was a bit bigger. you have the same issues. you also got a dog that had an issue that was a bit larger and i would give it to you for a full refund. \n",
            "i am doing this with my dog when coming home from work: i make sure to cover everything he likes in one place, my door always open. he has a rug so i have found a lot of room for him inside. he likes to run through the house and sometimes has a big mess where the wall is. i also brought my dog in this morning and noticed a lot of poop. is it normal poop? i have noticed him jumping in the kitchen, not leaving anything inside. it is not unusual; he jumps into the kitchen before he can get to the other end. \n",
            "i do not\n",
            "\n",
            "[1100 | 252.10] loss=2.73 avg=2.73\n",
            "[1200 | 483.72] loss=2.78 avg=2.76\n",
            "======== SAMPLE 1 ========\n",
            " classic the bluebird. if your dog walks on any or all of these tracks, then the bluebird will be at the center of his collection.\n",
            "sasquatch - black - - - - - - - - - - - - - - - - - - - - - - - - - - - - - - - - - - - - - - - - - - - - - - - - - - - - - - - - - - - - - -... - - - - - - - - - - - - - - - - - - - - - - -\n",
            "snuggle plush dog toy, 2.5\" black in color this plush dog toy comes complete with a ball, rope, squeaker and two toys. comes in an adorable red and gold color. contains all the necessary materials and workmanship needed to make these toys a truly unique and impressive piece of equipment - all these are made by experts inside and out.\n",
            "petit dvd, 1.1\" white in color the dvd features a gorgeous, vibrant, original color by art direction and the perfect colors you will find in your favorite video games. made in the usa: it contains all necessary components: a clear translucent paper print, an embossed finish and a crystal clear clear background. comes in two color options: white or red. dimensions: 1.1x1.1 cm length: 55.2cm length: 44.5cm width: 9.5cm: color: white features: -color: white and -metal: metal -finish: black -no shine or scuffing -plastic frame -easy to clean -lack of any other items -soft plastic finish -puppy toys -black, -no shine or scuffing -plastic frame -easy to clean\n",
            "small dog is pet toy, 3\" xs, silver the toy is an ideal fit for every little one! the original silver color and bright stripes makes it look so much more interesting than real silver! the new gold-plated inner and outer toy has bright red color accents and an extra deep, silky black ribbon! the base is made of heavy duty nickel plated steel & no plastic base, and the inside is nickel plated stainless steel. it is sturdy enough in the hand, but it is also light enough that it can easily be removed and replaced. this toy is 100% complete. this toy fits most pet toys, including mini dogs! for small dogs small size, this is very much a toy for the small breed. to make it even the little one will love the fun! size: 3\" x 1.1\" xs/silver, small: size: 8.88cm/7.9cm / 12.14cm / 1.7cm - perfect fit for small dogs, small size - perfect fit for small pets - perfect fit for small dogs\n",
            "sasquatch - black - - - - - - - - - - - - - - - - - - - - - - - - - - - - - - - - - - - - - - - - - - - - - - - - - - - - - - - - - - - - - - - - - - - - - - - - - - - - - - - - - - - - - - - - - -\n",
            "lover is pet food recipe 2.5 lbs. with a high value protein blend, this is an excellent blend of wholesome food with low fat, palatable flavor.\n",
            "boston delights - salmon, 7.5oz, 5.8oz, assorted lover is favorite. this is a low fat product that is high in protein. it is great for pets with an appetite and a strong jaw. it is great for dogs and cats. the original salmon flavored salmon flavored salmon is a healthy alternative to canned salmon. the salmon flavor blend is a great alternative to beef flavor and lamb flavor. salmon flavored salmon flavored salmon provides the taste a carnivores like us crave but provides our dogs without any additives. as you can see the salmon flavor has a great taste unlike beef and lamb flavors. this salmon flavored salmon flavor is made with natural ingredients\n",
            "mallerite, 3/4\" red (color is blue), 4\" (color is black) the mallerite is a blend of natural ingredients and fresh seafood. its fresh seafood uses natural flavors and freshens freshens! it is ideal for birds and small dogs, and for those looking for healthy fresh seafood treats. it is made of natural ingredients, that are specially formulated to help maintain the vitality of your birds.\n",
            "pawy is dog crate dog crate, 4-pounds by 6-foot high dog training features a 2.5-pound crate, which is the largest crate set available for your dog. the crate allows your dog more space, allowing you to train or sit and have the freedom to move, eat and sleep in any direction for added strength and comfort\n",
            "\n",
            "[1300 | 727.13] loss=2.62 avg=2.71\n",
            "[1400 | 959.02] loss=2.69 avg=2.70\n",
            "======== SAMPLE 1 ========\n",
            " of the world, which is why you should always take the time to watch your pet play with their favorite chew toy. pet lovers deserve the joy of chewing, and the chance to experience the thrill of chewing. we believe the best chew toy for dogs is the one they are going to dig. a pet owner comes to us for tips on what they should look for during the purchase you are able to share the love for your dog by giving their dog this toy.\n",
            "toys for cats, medium the tugs for cats toy offers a safe, playful toy for cats to explore. this toy will become the most popular toy for cats and cats looking to explore new areas of their home. interactive toys are great for cats like puppies, kittens and young kittens. the toy offers an interactive play experience with other toys. this toy is a great way to train your pet to play, and it is a fun toy for your pet. the toy is durable and safe for pets and their owners. this toy is non-toxic and non harmful to pet.\n",
            "toys for dogs, xs the tugs for dogs toy provides a fun toy alternative for dogs and dogs. the toy is designed to give your dog an outlet for his natural instincts, but also allow you to entertain the natural instincts of the dog without choking him. in case i must mention the dogs, you know that you can hear the dogs and hear the dogs from the cat! the toy is so fun, for a fun reason! the toy offers fun fun, fun fun, fun fun. and it will just be as fun as the other toy!\n",
            "nylabone 2 oz (3 pack) nylabone is a clinically proven and approved topical and anti-inflammatory anti-inflammatory, antibacterial, and anti parasitic for dogs and cats. nylabone is a safe, natural, effective, effective antibacterial and anti-infective anti-inflammatory for dogs and cats. it can be used in the removal of infected ticks or in dogs who have infections of ticks, fleas, ticks, and parasites.\n",
            "sherpa 7/2.2 oz (3 pack) the safe formula for the management of chronic skin infections. this product was developed and formulated specifically from the ingredients in the original pet food formula by the maker of the original pet food. this product is safe for dogs and cats and may be a safe and effective alternative to antibiotics. this product was also designed with use as an antibiotic for pets, or it may be intended as an antibiotic in humans. it is a useful way for the owner to reduce the risk of infection of dogs with skin or flea infestation of dogs or cats.\n",
            "toys for dogs, xs the tugs for dogs toy provides a fun toy alternative for dogs and dogs. tugs are a safe, natural, effective, effective antibacterial and anti-inflammatory antistatic for dogs and cats. it is a safe, natural, effective antibacterial and anti-inflammatory anti-inflammatory for dogs and cats. tugs use tugs. as dog play with tugging, tugging, chewing, chewing, licking, licking, licking, licking, licking. this fun toy was designed as an active alternative for dogs and cats who need interactive play. it is highly effective and safe for dogs and cats.\n",
            "sherpa 12 oz (3 pack) a safe formula for the management of skin infections. this product was developed and formulated specifically from the ingredients in the original pet food formula by the maker of the original pet food. this product is safe for dogs and cats and may be a safe and effective alternative to antibiotics. this product was also designed as an antibiotic for dogs, or it may be intended as an antibiotic in humans. this product was also designed with use as an antibiotic for pets, or it may be intended as an antibiotic in humans. it is a useful way for the owner to reduce the risk of infection of dogs with skin or flea infestation of dogs or cats.\n",
            "sherpa 2 oz (2 pack) the safe formula for the management of chronic skin infections. this product was developed and formulated specifically from the ingredients in the original pet food formula by the maker of the original pet food. this product is safe for dogs and cats and may be a safe and effective alternative to antibiotics. this product was also designed with use as an antibiotic for dogs, or it may be intended as an antibiotic in humans. it is a useful way for the owner to reduce the risk of infection of dogs with skin or flea infestation of dogs or cats.\n",
            "sherpa 6 oz (2 pack) the safe formula for the management of skin infections. this product was developed and formulated specifically from the ingredients in the original pet food formula by the maker of the original pet food. this product is safe for dogs and cats and may be a safe and effective alternative to antibiotics. this product was also designed with use as an antibiotic for dogs, or it may be intended as an antibiotic in humans. it is a useful way for the owner to\n",
            "\n",
            "[1500 | 1202.61] loss=2.24 avg=2.61\n",
            "Saving checkpoint/s_a/model-1500\n",
            "WARNING:tensorflow:From /usr/local/lib/python3.7/dist-packages/tensorflow/python/training/saver.py:1058: remove_checkpoint (from tensorflow.python.training.checkpoint_management) is deprecated and will be removed in a future version.\n",
            "Instructions for updating:\n",
            "Use standard file APIs to delete files with this prefix.\n",
            "[1600 | 1437.08] loss=2.44 avg=2.58\n",
            "======== SAMPLE 1 ========\n",
            "/barkley\n",
            "petcare (pantie) pet care is pet products are a team effort to provide quality pet care for your pet. we are passionate about helping cats and dogs with special needs with pets we know fit in their homes as well as to ensure pets receive the care they need at a premium. here at the pet care team, we understand that pets needing a pet care center are just as important to your pet as pets who need the most care. we are always here for you - whether you are experiencing health issues that you can not control, or are in the midst of a family emergency and you have just purchased a new baby, please feel better.our commitment to quality pet care extends well beyond pet products. we offer our best and brightest and strive to produce results wherever we serve.thank you for visiting our pet care office! we are proud pet families who believe in offering pets a home with their own unique goals and we are proud to work with you.our commitment to quality pet care extends well beyond pet products. we offer our best and brightest and strive to produce results wherever we serve.our quality pet care staff is experienced in the field who are also passionate about their community. we are proud to have such a diverse staff team with over a half million members.what we do we offer our pets:all pets come from across the country to have a home with their owners, so we know that it is best for their well-being.our staff consists of professionals with professional training in the field of pet care.it is important for each pet owner to have the ability to decide whether he or she prefers pet care to their home.the pet care team cannot always be the quickest, but they can always be seen to be the most dedicated people on the team.\n",
            "petcare (pet bowl) pet care is pet products are a team effort to provide quality pet care for your pet. we are passionate about helping cats and dogs with special needs with pets we know fit in their homes as well as to ensure pets receive the care they need at a premium. here at the pet care team, we understand that pets needing a pet care center are just as important to your pet as pets who need the most care. we are always here for you - whether you are experiencing health issues that you can not control, or are in the midst of a family emergency and you have just purchased a new baby, please feel better.our commitment to quality pet care extends well beyond pet products. we offer our best and brightest and strive to produce results wherever we serve.thank you for visiting our pet care office! we are proud pet families who believe in offering pets a home with their own unique goals and we are proud to work with you.our commitment to quality pet care extends well beyond pet products. we offer our best and brightest and strive to produce results wherever we serve.our quality pet care staff is experienced in the field who are also passionate about their community. we are proud to have such a diverse staff team with over a half million members.what we do we offer our pets:all pets come from across the country to have a home with their owners, so we know that it is best for their well-being.our staff consists of professionals with professional training in the field of pet care.it is important for each pet owner to have the ability to decide whether he or she prefers pet care to their home.the pet care team cannot always be the quickest, but they can always be seen to be the most devoted person on the team.\n",
            "petcare (pet dish) pet care is pet products are a team effort to provide quality pet care for your pet. we are passionate about helping cats and dogs with special needs with pets we know fit in their homes as well as to ensure pets receive the care they need at a premium. here at the pet care team, we understand that pets needing a pet care center are just as important to your pet as pets who need the most care. we are always here for you - whether you are experiencing health issues that you can not control, or are in the midst of a family emergency and you have just purchased a new baby, please feel better.our commitment to quality pet care extends well beyond pet products. we offer our best and brightest and strive to produce results wherever we serve.thank you for visiting our pet care office! we are proud pet families who believe in offering pets a home with their own unique goals and we are proud to work with you.our commitment to quality pet care extends well beyond pet products. we offer our best and brightest and strive to produce results wherever we serve.our quality pet care staff is experienced in the field who are also passionate about their community. we are proud to have such a diverse staff staff team with over a half million members.what we do we offer our pets:all pets come from across the country to have a home with their owners, so we know that it is best for their well-being.our staff consists of professionals with professional training in the field of pet care.\n",
            "\n",
            "[1700 | 1680.22] loss=2.59 avg=2.58\n",
            "[1800 | 1912.16] loss=2.08 avg=2.52\n",
            "======== SAMPLE 1 ========\n",
            " be a little different, but it is just the right size for your cat.\n",
            "nature is recipe for pets soft cat kitten bed - green - size xl size xxs size l color: purple.color: green.material: soft soft bedcolor: purplematerial: soft soft bedsize: xlsmall: ~21\" x 24\"l small: ~18\" x 20\"l medium: ~20\" x 28\"l large: ~22\" x 34\"l xs medium: ~27\" x 36\"l large: ~30\" x 42\"w\n",
            "nature is recipes for pets soft cat kitten bed - raspberry colors, color: raspberry.size: small: ~27\" x 24\"l medium: ~28\" x 36\"l large: ~32\" x 42\"w\n",
            "nature is recipes for pets soft cat kitten bed - light blue (x-small) color: light blue.material: soft soft bedcolor: bright blue.color: blue.\n",
            "nature is recipes for pets soft cat kitten bed - blue - size xl size xxl color: blue.material: soft soft bedcolor: blue.color: blue.\n",
            "nature is recipe for pets soft cat kitten bed - green (x-large) size: large: approx. 22\"-25\"l x small: ~29\"x 40\"x 20x4h small: ~30\"x 42\"x 16x8hmedium: ~34\"x 42\"x 17x6hbig: ~36\"x 49\"x 24\"x8h\n",
            "nature is recipe for pets soft cat kitten bed - green (x-large) size: xl size xlarge: approx. 24\"x 18\"x 4h.color: green.material: soft soft bedcolor: green.size: large: approx. 22\"-25\"l xsmall: ~29\"x 40\"x 20x4hsmall: ~30\"x 42\"x 16x8hmedium: ~34\"x 42\"x 17x6hbig: ~36\"x 49\"x 24\"x8h\n",
            "sporty deluxe dog bed - black - 4\" x 11\" large made of soft plush material which comes with a cozy deluxe dog bed. it is available in a variety of colors and sizes. made with top quality plush material available individually. it is available in a soft plush material. available in black color. size: 4\" x 11\" high quality. made in the usa. measures 30\" from top of back to base of tail. includes zip-lock for convenience. size 6\" x 11 1/4\" high quality\n",
            "smarty kitty cat bed - medium bed dimensions: 4\" lx7.5\" w x 7 1/2\" d with double cushion - size medium (3 1/2\" by 3 1/2\" x 3 1/4\")\n",
            "zoo med natural dog bowl, 5.6mm zoo med is the leading brand of orthopedic dog products and has a total of 4 brands in different size and variety. their collection includes all 2-feet of orthopedic dog trays, a dog bowl and a dog dog bowl tray. zoo med is a certified food and dog orthopedic company with 4 distinct categories. each category is designed to fit the unique needs of the dog owner. you can find the difference in your pet is quality of life by searching for zoo med products. zoo med products are made to handle the challenges of your pet while delivering the best products to their unique needs. these products are made in the usa with precision and attention to detail. you will find the difference in your pet is bone and joint health in a variety of holistic pet products. these products may also help with anxiety, anxiety and joint problems. zoo med products are designed with pets in mind, as the top pets can be stressful or even dangerous to pets. they include a great amount of helpful products to help alleviate your pet is anxiety, including many products used in clinical training and in veterinary homes, veterinary clinics and shelter settings. zoo med, like all zoos, do not tolerate any form of pet abuse, abuse, or illness, and do not allow pets to attack, bite, or hurt others. simply call the zoo med team today and ask them why they are here. zoo med team has hundreds of years of dog and cat experience caring for thousands of pets every day. your pet is a service animal, your dog is a pet, your planet is a friend, and your home is peace.\n",
            "casual canine casual canine dog costume - small - large the casual canine is a custom made leather dog costume for dogs of all breeds and sizes. the casual canine is a great accessory for pets of all breeds. its soft leather coat provides a comfortable and well-made look to your pet.\n",
            "camo bingo camo cat bed, 14-inch the camo bingo camo cat bed\n",
            "\n",
            "[1900 | 2155.35] loss=2.47 avg=2.51\n",
            "[2000 | 2386.89] loss=2.04 avg=2.46\n",
            "Saving checkpoint/s_a/model-2000\n"
          ]
        }
      ]
    },
    {
      "cell_type": "markdown",
      "metadata": {
        "id": "IXSuTNERaw6K"
      },
      "source": [
        "After the model is trained, you can copy the checkpoint folder to your own Google Drive.\n",
        "\n",
        "If you want to download it to your personal computer, it's strongly recommended you copy it there first, then download from Google Drive. The checkpoint folder is copied as a `.rar` compressed file; you can download it and uncompress it locally."
      ]
    },
    {
      "cell_type": "code",
      "metadata": {
        "id": "VHdTL8NDbAh3"
      },
      "source": [
        "gpt2.copy_checkpoint_to_gdrive(run_name='s_a')"
      ],
      "execution_count": 8,
      "outputs": []
    },
    {
      "cell_type": "markdown",
      "metadata": {
        "id": "qQJgV_b4bmzd"
      },
      "source": [
        "You're done! Feel free to go to the **Generate Text From The Trained Model** section to generate text based on your retrained model."
      ]
    },
    {
      "cell_type": "markdown",
      "metadata": {
        "id": "pel-uBULXO2L"
      },
      "source": [
        "## Load a Trained Model Checkpoint\n",
        "\n",
        "Running the next cell will copy the `.rar` checkpoint file from your Google Drive into the Colaboratory VM."
      ]
    },
    {
      "cell_type": "code",
      "metadata": {
        "id": "DCcx5u7sbPTD"
      },
      "source": [
        "gpt2.copy_checkpoint_from_gdrive(run_name='s_a')"
      ],
      "execution_count": 8,
      "outputs": []
    },
    {
      "cell_type": "markdown",
      "metadata": {
        "id": "RTa6zf3e_9gV"
      },
      "source": [
        "The next cell will allow you to load the retrained model checkpoint + metadata necessary to generate text.\n",
        "\n",
        "**IMPORTANT NOTE:** If you want to rerun this cell, **restart the VM first** (Runtime -> Restart Runtime). You will need to rerun imports but not recopy files."
      ]
    },
    {
      "cell_type": "code",
      "metadata": {
        "id": "-fxL77nvAMAX",
        "colab": {
          "base_uri": "https://localhost:8080/"
        },
        "outputId": "3194a421-7001-4f8f-c0e8-bf1f584a2890"
      },
      "source": [
        "sess = gpt2.start_tf_sess()\n",
        "gpt2.load_gpt2(sess, run_name='s_a')"
      ],
      "execution_count": 4,
      "outputs": [
        {
          "output_type": "stream",
          "name": "stdout",
          "text": [
            "Loading checkpoint checkpoint/s_a/model-1000\n",
            "INFO:tensorflow:Restoring parameters from checkpoint/s_a/model-1000\n"
          ]
        }
      ]
    },
    {
      "cell_type": "markdown",
      "metadata": {
        "id": "ClJwpF_ACONp"
      },
      "source": [
        "## Generate Text From The Trained Model\n",
        "\n",
        "After you've trained the model or loaded a retrained model from checkpoint, you can now generate text. `generate` generates a single text from the loaded model."
      ]
    },
    {
      "cell_type": "code",
      "metadata": {
        "id": "4RNY6RBI9LmL",
        "colab": {
          "base_uri": "https://localhost:8080/"
        },
        "outputId": "cdc37d31-e1bd-4c2b-d7bc-a8f0e67d4724"
      },
      "source": [
        "gpt2.generate(sess, \n",
        "              prefix='is salmon good for a dog?',\n",
        "              include_prefix=False,\n",
        "              temperature = 0.6,\n",
        "              top_p=0.9,\n",
        "              truncate='\\n',\n",
        "              nsamples=5,\n",
        "              batch_size=5,  \n",
        "              run_name='s_a')"
      ],
      "execution_count": 5,
      "outputs": [
        {
          "output_type": "stream",
          "name": "stdout",
          "text": [
            " yes, you can add a small amount to your dog is diet to help with the digestion process. it is best to start with small amounts, and increase as you see the need for them. a small amount of salmon is not too bad for a dog. \n",
            "====================\n",
            " i would not worry too much about it. the best thing about this is that it is not a big deal, but you should be aware of the risks. the reason why i would be worried about this is that it is a good thing that there is a water quality test done to determine if there is any bacteria present in the fish. it is also possible that there are some other bacteria present in the water that are not present in the fish, and thus there is some risk of some bacteria in the water. if this is the case, then i would not worry about it. \n",
            "====================\n",
            " this is not a good idea, as it could lead to a dog who is not eating enough and you will end up with a dog who is not eating enough. \n",
            "====================\n",
            " i am not sure what the fish are that are good for fish. what fish are you talking about? \n",
            "====================\n",
            "is salmon good for a dog? it is not a good idea to feed fish. the fish are the most nutritious food in the world. they are the most nutritious food for humans. fish is a plant that is a part of the family of plants. it is not a plant that is harmful to humans. it is a plant that is beneficial to humans. but the best way to make sure you feed your dog is to feed him fish. fish is a plant that is a part of the family of plants. it is not a plant that is harmful to humans. it is a plant that is beneficial to humans. but the best way to make sure you feed your dog is to feed him fish. it is not a plant that is harmful to humans. it is a plant that is beneficial to humans. but the best way to make sure you feed your dog is to feed him fish. it is not a plant that is harmful to humans. it is a plant that is beneficial to humans. but the best way to make sure you feed your dog is to feed him fish. it is not a plant that is harmful to humans. it is a plant that is beneficial to humans. but the best way to make sure you feed your dog is to feed him fish. it is not a plant that is harmful to humans. it is a plant that is beneficial to humans. but the best way to make sure you feed your dog is to feed him fish. it is not a plant that is harmful to humans. it is a plant that is beneficial to humans. but the best way to make sure you feed your dog is to feed him fish. it is not a plant that is harmful to humans. it is a plant that is beneficial to humans. but the best way to make sure you feed your dog is to feed him fish. it is not a plant that is harmful to humans. it is a plant that is beneficial to humans. but the best way to make sure you feed your dog is to feed him fish. it is not a plant that is harmful to humans. it is a plant that is beneficial to humans. but the best way to make sure you feed your dog is to feed him fish. it is not a plant that is harmful to humans. it is a plant that is beneficial to humans. but the best way to make sure you feed your dog is to feed him fish. it is not a plant that is harmful to humans. it is a plant that is beneficial to humans. but the best way to make sure you feed your dog is to feed him fish. it is not a plant that is harmful to humans. it is a plant that is beneficial to humans. but the best way to make sure you feed your dog is to feed him fish. it is not a plant that is harmful to humans. it is a plant that is beneficial to humans. but the best way to make sure you feed your dog is to feed him fish. it is not a plant that is harmful to humans. it is a plant that is beneficial to humans. but the best way to make sure you feed your dog is to feed him fish. it is not a plant that is harmful to humans. it is a plant that is beneficial to humans. but the best way to make sure you feed your dog is to feed him fish. it is not a plant that is harmful to humans. it is a plant that is beneficial to humans. but the best way to make sure you feed your dog is to feed him fish. it is not a plant that is harmful to humans. it is a plant that is beneficial to humans. but the best way to make sure you feed your dog is to feed him fish. it is not a plant that is harmful to humans. it is a plant that is beneficial to humans. but the best way to make sure you feed your dog is to feed him fish. it is not a plant that is harmful to humans. it is a plant that is beneficial to humans. but the best way to make sure you feed your dog is to feed him fish. it is not a plant that is harmful to humans. it is a plant that is beneficial to humans. but the best way to make sure you feed your dog is to feed him fish. it is not a plant that is harmful to humans. it is a plant that is beneficial to humans. but the best way to make sure you feed your dog is to feed him fish. it is not a plant that is harmful to humans. it is a plant that is beneficial to humans. but the best way to make sure you feed your dog is to feed him fish. it is not a plant that is harmful to humans. it is a plant that is beneficial to humans. but the best way to make sure you feed your dog is to feed him fish. it is not a plant that is harmful to humans. it is a plant that is beneficial to humans. but the best way to make sure you feed your dog is to feed him fish. it is not a plant that is harmful\n",
            "====================\n"
          ]
        }
      ]
    },
    {
      "cell_type": "markdown",
      "metadata": {
        "id": "oF4-PqF0Fl7R"
      },
      "source": [
        "If you're creating an API based on your model and need to pass the generated text elsewhere, you can do `text = gpt2.generate(sess, return_as_list=True)[0]`\n",
        "\n",
        "You can also pass in a `prefix` to the generate function to force the text to start with a given character sequence and generate text from there (good if you add an indicator when the text starts).\n",
        "\n",
        "You can also generate multiple texts at a time by specifing `nsamples`. Unique to GPT-2, you can pass a `batch_size` to generate multiple samples in parallel, giving a massive speedup (in Colaboratory, set a maximum of 20 for `batch_size`).\n",
        "\n",
        "Other optional-but-helpful parameters for `gpt2.generate` and friends:\n",
        "\n",
        "*  **`length`**: Number of tokens to generate (default 1023, the maximum)\n",
        "* **`temperature`**: The higher the temperature, the crazier the text (default 0.7, recommended to keep between 0.7 and 1.0)\n",
        "* **`top_k`**: Limits the generated guesses to the top *k* guesses (default 0 which disables the behavior; if the generated output is super crazy, you may want to set `top_k=40`)\n",
        "* **`top_p`**: Nucleus sampling: limits the generated guesses to a cumulative probability. (gets good results on a dataset with `top_p=0.9`)\n",
        "* **`truncate`**: Truncates the input text until a given sequence, excluding that sequence (e.g. if `truncate='<|endoftext|>'`, the returned text will include everything before the first `<|endoftext|>`). It may be useful to combine this with a smaller `length` if the input texts are short.\n",
        "*  **`include_prefix`**: If using `truncate` and `include_prefix=False`, the specified `prefix` will not be included in the returned text."
      ]
    }
  ]
}